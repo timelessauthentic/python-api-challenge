{
 "cells": [
  {
   "cell_type": "markdown",
   "metadata": {},
   "source": [
    "# WeatherPy\n",
    "----\n",
    "\n",
    "#### Note\n",
    "* Instructions have been included for each segment. You do not have to follow them exactly, but they are included to help you think through the steps."
   ]
  },
  {
   "cell_type": "code",
   "execution_count": 83,
   "metadata": {
    "scrolled": true
   },
   "outputs": [],
   "source": [
    "# Dependencies and Setup\n",
    "import matplotlib.pyplot as plt\n",
    "import pandas as pd\n",
    "import numpy as np\n",
    "import scipy.stats as st\n",
    "import requests\n",
    "import time\n",
    "from scipy.stats import linregress\n",
    "\n",
    "# Import API key\n",
    "from api_keys import api_key\n",
    "\n",
    "# Incorporated citipy to determine city based on latitude and longitude\n",
    "from citipy import citipy\n",
    "\n",
    "# Output File (CSV)\n",
    "output_data_file = \"cities.csv\"\n",
    "\n",
    "# Range of latitudes and longitudes\n",
    "lat_range = (-90, 90)\n",
    "lng_range = (-180, 180)"
   ]
  },
  {
   "cell_type": "markdown",
   "metadata": {},
   "source": [
    "## Generate Cities List"
   ]
  },
  {
   "cell_type": "code",
   "execution_count": 2,
   "metadata": {},
   "outputs": [
    {
     "data": {
      "text/plain": [
       "624"
      ]
     },
     "execution_count": 2,
     "metadata": {},
     "output_type": "execute_result"
    }
   ],
   "source": [
    "# List for holding lat_lngs and cities\n",
    "lat_lngs = []\n",
    "cities = []\n",
    "\n",
    "# Create a set of random lat and lng combinations\n",
    "lats = np.random.uniform(lat_range[0], lat_range[1], size=1500)\n",
    "lngs = np.random.uniform(lng_range[0], lng_range[1], size=1500)\n",
    "lat_lngs = zip(lats, lngs)\n",
    "\n",
    "# Identify nearest city for each lat, lng combination\n",
    "for lat_lng in lat_lngs:\n",
    "    city = citipy.nearest_city(lat_lng[0], lat_lng[1]).city_name\n",
    "    \n",
    "    # If the city is unique, then append\n",
    "    if city not in cities:\n",
    "        cities.append(city)\n",
    "\n",
    "# Print the city count to confirm sufficient count\n",
    "len(cities)"
   ]
  },
  {
   "cell_type": "markdown",
   "metadata": {},
   "source": [
    "### Perform API Calls\n",
    "* Perform a weather check on each city using a series of successive API calls.\n",
    "* Include a print log of each city as it'sbeing processed (with the city number and city name).\n"
   ]
  },
  {
   "cell_type": "code",
   "execution_count": 3,
   "metadata": {
    "scrolled": false
   },
   "outputs": [
    {
     "name": "stdout",
     "output_type": "stream",
     "text": [
      "Beginning Data Retrieval\n",
      "------------------------\n",
      "Processing record 0 of set 0 | namibe\n",
      "Processing record 1 of set 0 | chuy\n",
      "Processing record 2 of set 0 | avarua\n",
      "Processing record 3 of set 0 | darhan\n",
      "Processing record 4 of set 0 | albany\n",
      "Processing record 5 of set 0 | aklavik\n",
      "Processing record 6 of set 0 | punta arenas\n",
      "Processing record 7 of set 0 | dikson\n",
      "Processing record 8 of set 0 | vaini\n",
      "Processing record 9 of set 0 | ushuaia\n",
      "Processing record 10 of set 0 | lebu\n",
      "Processing record 11 of set 0 | robe\n",
      "Processing record 12 of set 0 | katsuura\n",
      "Processing record 13 of set 0 | byron bay\n",
      "Processing record 14 of set 0 | lalomanu\n",
      "Couldn't find city\n",
      "Processing record 15 of set 0 | rocha\n",
      "Processing record 16 of set 0 | talnakh\n",
      "Processing record 17 of set 0 | nalut\n",
      "Processing record 18 of set 0 | necochea\n",
      "Processing record 19 of set 0 | sioux lookout\n",
      "Processing record 20 of set 0 | khatanga\n",
      "Processing record 21 of set 0 | andenes\n",
      "Processing record 22 of set 0 | poum\n",
      "Processing record 23 of set 0 | faanui\n",
      "Processing record 24 of set 0 | nikolskoye-na-cheremshane\n",
      "Couldn't find city\n",
      "Processing record 25 of set 0 | dunedin\n",
      "Processing record 26 of set 0 | eydhafushi\n",
      "Processing record 27 of set 0 | kapaa\n",
      "Processing record 28 of set 0 | kodiak\n",
      "Processing record 29 of set 0 | zhanjiang\n",
      "Processing record 30 of set 0 | flinders\n",
      "Processing record 31 of set 0 | upernavik\n",
      "Processing record 32 of set 0 | jamestown\n",
      "Processing record 33 of set 0 | vilshofen\n",
      "Processing record 34 of set 0 | tyubuk\n",
      "Processing record 35 of set 0 | kosh-agach\n",
      "Processing record 36 of set 0 | tamandare\n",
      "Processing record 37 of set 0 | hobart\n",
      "Processing record 38 of set 0 | colac\n",
      "Processing record 39 of set 0 | port alfred\n",
      "Processing record 40 of set 0 | busselton\n",
      "Processing record 41 of set 0 | camacha\n",
      "Processing record 42 of set 0 | rikitea\n",
      "Processing record 43 of set 0 | alotau\n",
      "Couldn't find city\n",
      "Processing record 44 of set 0 | oakdale\n",
      "Processing record 45 of set 0 | cilegon\n",
      "Processing record 46 of set 0 | san jose de guanipa\n",
      "Processing record 47 of set 0 | sarahan\n",
      "Processing record 48 of set 0 | burica\n",
      "Couldn't find city\n",
      "Processing record 49 of set 0 | bluff\n",
      "Processing record 50 of set 0 | umzimvubu\n",
      "Couldn't find city\n",
      "Processing record 0 of set 1 | saint-augustin\n",
      "Processing record 1 of set 1 | kizner\n",
      "Processing record 2 of set 1 | new norfolk\n",
      "Processing record 3 of set 1 | kichmengskiy gorodok\n",
      "Processing record 4 of set 1 | maumere\n",
      "Processing record 5 of set 1 | almaznyy\n",
      "Processing record 6 of set 1 | broome\n",
      "Processing record 7 of set 1 | ilulissat\n",
      "Processing record 8 of set 1 | illoqqortoormiut\n",
      "Couldn't find city\n",
      "Processing record 9 of set 1 | nikolskoye\n",
      "Processing record 10 of set 1 | ojinaga\n",
      "Processing record 11 of set 1 | muhos\n",
      "Processing record 12 of set 1 | dharmanagar\n",
      "Processing record 13 of set 1 | lolua\n",
      "Couldn't find city\n",
      "Processing record 14 of set 1 | wulanhaote\n",
      "Couldn't find city\n",
      "Processing record 15 of set 1 | nicolas bravo\n",
      "Processing record 16 of set 1 | cape town\n",
      "Processing record 17 of set 1 | constitucion\n",
      "Processing record 18 of set 1 | porterville\n",
      "Processing record 19 of set 1 | saint george\n",
      "Processing record 20 of set 1 | rafai\n",
      "Processing record 21 of set 1 | carnarvon\n",
      "Processing record 22 of set 1 | qaanaaq\n",
      "Processing record 23 of set 1 | biak\n",
      "Processing record 24 of set 1 | kavieng\n",
      "Processing record 25 of set 1 | hermanus\n",
      "Processing record 26 of set 1 | tiksi\n",
      "Processing record 27 of set 1 | chokurdakh\n",
      "Processing record 28 of set 1 | korgen\n",
      "Processing record 29 of set 1 | barrow\n",
      "Processing record 30 of set 1 | puerto madryn\n",
      "Processing record 31 of set 1 | puerto lempira\n",
      "Processing record 32 of set 1 | puerto asis\n",
      "Processing record 33 of set 1 | puerto ayora\n",
      "Processing record 34 of set 1 | butaritari\n",
      "Processing record 35 of set 1 | arraial do cabo\n",
      "Processing record 36 of set 1 | chinhoyi\n",
      "Processing record 37 of set 1 | cabo san lucas\n",
      "Processing record 38 of set 1 | lompoc\n",
      "Processing record 39 of set 1 | mataura\n",
      "Processing record 40 of set 1 | klaksvik\n",
      "Processing record 41 of set 1 | kruisfontein\n",
      "Processing record 42 of set 1 | magaria\n",
      "Processing record 43 of set 1 | sitka\n",
      "Processing record 44 of set 1 | karratha\n",
      "Processing record 45 of set 1 | niksic\n",
      "Processing record 46 of set 1 | padang\n",
      "Processing record 47 of set 1 | bengkulu\n",
      "Processing record 48 of set 1 | mwingi\n",
      "Processing record 49 of set 1 | provideniya\n",
      "Processing record 50 of set 1 | butwal\n",
      "Processing record 0 of set 2 | tiznit\n",
      "Processing record 1 of set 2 | nizhneyansk\n",
      "Couldn't find city\n",
      "Processing record 2 of set 2 | bredasdorp\n",
      "Processing record 3 of set 2 | severo-kurilsk\n",
      "Processing record 4 of set 2 | pevek\n",
      "Processing record 5 of set 2 | mar del plata\n",
      "Processing record 6 of set 2 | khudumelapye\n",
      "Processing record 7 of set 2 | gat\n",
      "Processing record 8 of set 2 | alizai\n",
      "Processing record 9 of set 2 | zhanatas\n",
      "Couldn't find city\n",
      "Processing record 10 of set 2 | bambous virieux\n",
      "Processing record 11 of set 2 | east london\n",
      "Processing record 12 of set 2 | marsh harbour\n",
      "Processing record 13 of set 2 | abu kamal\n",
      "Processing record 14 of set 2 | ribeira grande\n",
      "Processing record 15 of set 2 | kabanjahe\n",
      "Processing record 16 of set 2 | ancud\n",
      "Processing record 17 of set 2 | cidreira\n",
      "Processing record 18 of set 2 | jalu\n",
      "Processing record 19 of set 2 | tuktoyaktuk\n",
      "Processing record 20 of set 2 | kainantu\n",
      "Processing record 21 of set 2 | adrar\n",
      "Processing record 22 of set 2 | egvekinot\n",
      "Processing record 23 of set 2 | boyolangu\n",
      "Processing record 24 of set 2 | hualmay\n",
      "Processing record 25 of set 2 | tacuarembo\n",
      "Processing record 26 of set 2 | kailua\n",
      "Processing record 27 of set 2 | goderich\n",
      "Processing record 28 of set 2 | haines junction\n",
      "Processing record 29 of set 2 | chivay\n",
      "Processing record 30 of set 2 | castro\n",
      "Processing record 31 of set 2 | thompson\n",
      "Processing record 32 of set 2 | bage\n",
      "Processing record 33 of set 2 | filingue\n",
      "Processing record 34 of set 2 | sarkand\n",
      "Processing record 35 of set 2 | cherskiy\n",
      "Processing record 36 of set 2 | saint-pierre\n",
      "Processing record 37 of set 2 | erzin\n",
      "Processing record 38 of set 2 | bonavista\n",
      "Processing record 39 of set 2 | wewak\n",
      "Processing record 40 of set 2 | christchurch\n",
      "Processing record 41 of set 2 | kegayli\n",
      "Couldn't find city\n",
      "Processing record 42 of set 2 | kaitangata\n",
      "Processing record 43 of set 2 | hermiston\n",
      "Processing record 44 of set 2 | dzhusaly\n",
      "Couldn't find city\n",
      "Processing record 45 of set 2 | chicama\n",
      "Processing record 46 of set 2 | torbat-e jam\n",
      "Processing record 47 of set 2 | buala\n",
      "Processing record 48 of set 2 | port elizabeth\n",
      "Processing record 49 of set 2 | mount pleasant\n",
      "Processing record 50 of set 2 | saint-philippe\n",
      "Processing record 0 of set 3 | khandyga\n",
      "Processing record 1 of set 3 | taolanaro\n",
      "Couldn't find city\n",
      "Processing record 2 of set 3 | jupiter\n",
      "Processing record 3 of set 3 | ixtapa\n",
      "Processing record 4 of set 3 | saldanha\n",
      "Processing record 5 of set 3 | butembo\n",
      "Processing record 6 of set 3 | leningradskiy\n",
      "Processing record 7 of set 3 | karkaralinsk\n",
      "Couldn't find city\n",
      "Processing record 8 of set 3 | ostersund\n",
      "Processing record 9 of set 3 | nemuro\n",
      "Processing record 10 of set 3 | longyearbyen\n",
      "Processing record 11 of set 3 | mabaruma\n",
      "Processing record 12 of set 3 | galle\n",
      "Processing record 13 of set 3 | aranos\n",
      "Processing record 14 of set 3 | fort-shevchenko\n",
      "Processing record 15 of set 3 | laguna\n",
      "Processing record 16 of set 3 | atuona\n",
      "Processing record 17 of set 3 | attawapiskat\n",
      "Couldn't find city\n",
      "Processing record 18 of set 3 | beloha\n",
      "Processing record 19 of set 3 | capitan bado\n",
      "Processing record 20 of set 3 | amderma\n",
      "Couldn't find city\n",
      "Processing record 21 of set 3 | rabo de peixe\n",
      "Processing record 22 of set 3 | xinzhou\n",
      "Processing record 23 of set 3 | kaeo\n",
      "Processing record 24 of set 3 | saint-medard-en-jalles\n",
      "Processing record 25 of set 3 | ponta delgada\n",
      "Processing record 26 of set 3 | port hawkesbury\n",
      "Processing record 27 of set 3 | tumannyy\n",
      "Couldn't find city\n",
      "Processing record 28 of set 3 | saskylakh\n",
      "Processing record 29 of set 3 | katy\n",
      "Processing record 30 of set 3 | the pas\n",
      "Processing record 31 of set 3 | gamba\n",
      "Processing record 32 of set 3 | prince rupert\n",
      "Processing record 33 of set 3 | kavaratti\n",
      "Processing record 34 of set 3 | caravelas\n",
      "Processing record 35 of set 3 | joshimath\n"
     ]
    },
    {
     "name": "stdout",
     "output_type": "stream",
     "text": [
      "Processing record 36 of set 3 | novikovo\n",
      "Processing record 37 of set 3 | santa maria\n",
      "Processing record 38 of set 3 | tilichiki\n",
      "Processing record 39 of set 3 | sur\n",
      "Processing record 40 of set 3 | yellowknife\n",
      "Processing record 41 of set 3 | seoul\n",
      "Processing record 42 of set 3 | portage\n",
      "Processing record 43 of set 3 | farafangana\n",
      "Processing record 44 of set 3 | solnechnyy\n",
      "Processing record 45 of set 3 | georgetown\n",
      "Processing record 46 of set 3 | samusu\n",
      "Couldn't find city\n",
      "Processing record 47 of set 3 | oranjemund\n",
      "Processing record 48 of set 3 | pyaozerskiy\n",
      "Processing record 49 of set 3 | samalaeulu\n",
      "Couldn't find city\n",
      "Processing record 50 of set 3 | buarcos\n",
      "Processing record 0 of set 4 | hilo\n",
      "Processing record 1 of set 4 | paamiut\n",
      "Processing record 2 of set 4 | sibolga\n",
      "Processing record 3 of set 4 | caraquet\n",
      "Processing record 4 of set 4 | wenling\n",
      "Processing record 5 of set 4 | fukue\n",
      "Processing record 6 of set 4 | grand river south east\n",
      "Couldn't find city\n",
      "Processing record 7 of set 4 | buraydah\n",
      "Processing record 8 of set 4 | hami\n",
      "Processing record 9 of set 4 | shirpur\n",
      "Processing record 10 of set 4 | torbay\n",
      "Processing record 11 of set 4 | san francisco\n",
      "Processing record 12 of set 4 | cacador\n",
      "Processing record 13 of set 4 | konevo\n",
      "Processing record 14 of set 4 | ashcroft\n",
      "Processing record 15 of set 4 | barentsburg\n",
      "Couldn't find city\n",
      "Processing record 16 of set 4 | panormos\n",
      "Processing record 17 of set 4 | narsaq\n",
      "Processing record 18 of set 4 | saint-louis\n",
      "Processing record 19 of set 4 | norman wells\n",
      "Processing record 20 of set 4 | portland\n",
      "Processing record 21 of set 4 | mys shmidta\n",
      "Couldn't find city\n",
      "Processing record 22 of set 4 | porteirinha\n",
      "Processing record 23 of set 4 | trincomalee\n",
      "Processing record 24 of set 4 | jaisalmer\n",
      "Processing record 25 of set 4 | tsihombe\n",
      "Couldn't find city\n",
      "Processing record 26 of set 4 | havelock\n",
      "Processing record 27 of set 4 | kinablangan\n",
      "Processing record 28 of set 4 | ovalle\n",
      "Processing record 29 of set 4 | amalapuram\n",
      "Processing record 30 of set 4 | rio claro\n",
      "Processing record 31 of set 4 | nizhneangarsk\n",
      "Processing record 32 of set 4 | mangan\n",
      "Processing record 33 of set 4 | palabuhanratu\n",
      "Couldn't find city\n",
      "Processing record 34 of set 4 | sao filipe\n",
      "Processing record 35 of set 4 | oeiras\n",
      "Processing record 36 of set 4 | higuey\n",
      "Couldn't find city\n",
      "Processing record 37 of set 4 | yingzhong\n",
      "Couldn't find city\n",
      "Processing record 38 of set 4 | parabel\n",
      "Processing record 39 of set 4 | altay\n",
      "Processing record 40 of set 4 | srednekolymsk\n",
      "Processing record 41 of set 4 | rantepao\n",
      "Processing record 42 of set 4 | yekepa\n",
      "Processing record 43 of set 4 | keti bandar\n",
      "Processing record 44 of set 4 | sorong\n",
      "Processing record 45 of set 4 | mackay\n",
      "Processing record 46 of set 4 | evensk\n",
      "Processing record 47 of set 4 | likhoslavl\n",
      "Processing record 48 of set 4 | clyde river\n",
      "Processing record 49 of set 4 | dakoro\n",
      "Processing record 50 of set 4 | pachino\n",
      "Processing record 0 of set 5 | kamariotissa\n",
      "Processing record 1 of set 5 | beringovskiy\n",
      "Processing record 2 of set 5 | sao joao da barra\n",
      "Processing record 3 of set 5 | maltahohe\n",
      "Processing record 4 of set 5 | mana\n",
      "Processing record 5 of set 5 | mount gambier\n",
      "Processing record 6 of set 5 | puerto cabezas\n",
      "Processing record 7 of set 5 | hithadhoo\n",
      "Processing record 8 of set 5 | muros\n",
      "Processing record 9 of set 5 | santa rosa\n",
      "Processing record 10 of set 5 | monrovia\n",
      "Processing record 11 of set 5 | berlevag\n",
      "Processing record 12 of set 5 | iglesias\n",
      "Processing record 13 of set 5 | markova\n",
      "Processing record 14 of set 5 | ayan\n",
      "Processing record 15 of set 5 | nishihara\n",
      "Processing record 16 of set 5 | ostrovnoy\n",
      "Processing record 17 of set 5 | yangjiang\n",
      "Processing record 18 of set 5 | arzgir\n",
      "Processing record 19 of set 5 | podosinovets\n",
      "Processing record 20 of set 5 | shahr-e babak\n",
      "Processing record 21 of set 5 | wexford\n",
      "Processing record 22 of set 5 | dalbandin\n",
      "Processing record 23 of set 5 | sayalgudi\n",
      "Couldn't find city\n",
      "Processing record 24 of set 5 | lagoa\n",
      "Processing record 25 of set 5 | kalmar\n",
      "Processing record 26 of set 5 | kenora\n",
      "Processing record 27 of set 5 | toliary\n",
      "Couldn't find city\n",
      "Processing record 28 of set 5 | nueve de julio\n",
      "Processing record 29 of set 5 | college\n",
      "Processing record 30 of set 5 | misratah\n",
      "Processing record 31 of set 5 | kayes\n",
      "Processing record 32 of set 5 | surt\n",
      "Processing record 33 of set 5 | ribeirao branco\n",
      "Processing record 34 of set 5 | nguiu\n",
      "Couldn't find city\n",
      "Processing record 35 of set 5 | grimari\n",
      "Couldn't find city\n",
      "Processing record 36 of set 5 | road town\n",
      "Processing record 37 of set 5 | goure\n",
      "Processing record 38 of set 5 | emerald\n",
      "Processing record 39 of set 5 | lasa\n",
      "Processing record 40 of set 5 | oiso\n",
      "Processing record 41 of set 5 | westerly\n",
      "Processing record 42 of set 5 | hasaki\n",
      "Processing record 43 of set 5 | bara\n",
      "Processing record 44 of set 5 | zdvinsk\n",
      "Processing record 45 of set 5 | kigoma\n",
      "Processing record 46 of set 5 | san quintin\n",
      "Processing record 47 of set 5 | les cayes\n",
      "Processing record 48 of set 5 | sentyabrskiy\n",
      "Couldn't find city\n",
      "Processing record 49 of set 5 | karauzyak\n",
      "Couldn't find city\n",
      "Processing record 50 of set 5 | coquimbo\n",
      "Processing record 0 of set 6 | tasiilaq\n",
      "Processing record 1 of set 6 | kaina\n",
      "Processing record 2 of set 6 | letterkenny\n",
      "Processing record 3 of set 6 | swansea\n",
      "Processing record 4 of set 6 | okha\n",
      "Processing record 5 of set 6 | arnoldstein\n",
      "Processing record 6 of set 6 | tsalka\n",
      "Processing record 7 of set 6 | kuusalu\n",
      "Processing record 8 of set 6 | ridgecrest\n",
      "Processing record 9 of set 6 | zverinogolovskoye\n",
      "Processing record 10 of set 6 | muzhi\n",
      "Processing record 11 of set 6 | halifax\n",
      "Processing record 12 of set 6 | sakaiminato\n",
      "Processing record 13 of set 6 | phan thiet\n",
      "Processing record 14 of set 6 | mahebourg\n",
      "Processing record 15 of set 6 | kulhudhuffushi\n",
      "Processing record 16 of set 6 | suntar\n",
      "Processing record 17 of set 6 | bilma\n",
      "Processing record 18 of set 6 | gary\n",
      "Processing record 19 of set 6 | gazni\n",
      "Couldn't find city\n",
      "Processing record 20 of set 6 | geraldton\n",
      "Processing record 21 of set 6 | rudnyy\n",
      "Processing record 22 of set 6 | offenburg\n",
      "Processing record 23 of set 6 | chippewa falls\n",
      "Processing record 24 of set 6 | elko\n",
      "Processing record 25 of set 6 | holland\n",
      "Processing record 26 of set 6 | skibbereen\n",
      "Processing record 27 of set 6 | axim\n",
      "Processing record 28 of set 6 | iskateley\n",
      "Processing record 29 of set 6 | tran\n",
      "Processing record 30 of set 6 | komsomolskiy\n",
      "Processing record 31 of set 6 | potgietersrus\n",
      "Couldn't find city\n",
      "Processing record 32 of set 6 | uspenka\n",
      "Processing record 33 of set 6 | twin falls\n",
      "Processing record 34 of set 6 | kovur\n",
      "Processing record 35 of set 6 | yialos\n",
      "Couldn't find city\n",
      "Processing record 36 of set 6 | cortez\n",
      "Processing record 37 of set 6 | shizukuishi\n",
      "Processing record 38 of set 6 | dingle\n",
      "Processing record 39 of set 6 | vallenar\n",
      "Processing record 40 of set 6 | akyab\n",
      "Processing record 41 of set 6 | nelson bay\n",
      "Processing record 42 of set 6 | ulladulla\n",
      "Processing record 43 of set 6 | tuatapere\n",
      "Processing record 44 of set 6 | rajanpur\n",
      "Processing record 45 of set 6 | marcona\n",
      "Couldn't find city\n",
      "Processing record 46 of set 6 | port lincoln\n",
      "Processing record 47 of set 6 | koson\n",
      "Processing record 48 of set 6 | tabiauea\n",
      "Couldn't find city\n",
      "Processing record 49 of set 6 | chizhou\n",
      "Processing record 50 of set 6 | orlik\n",
      "Processing record 0 of set 7 | mitu\n",
      "Processing record 1 of set 7 | ocean springs\n",
      "Processing record 2 of set 7 | dmitriyevka\n",
      "Processing record 3 of set 7 | hofn\n",
      "Processing record 4 of set 7 | saleaula\n",
      "Couldn't find city\n",
      "Processing record 5 of set 7 | kamenskoye\n",
      "Couldn't find city\n",
      "Processing record 6 of set 7 | brigantine\n",
      "Processing record 7 of set 7 | iqaluit\n",
      "Processing record 8 of set 7 | kralendijk\n",
      "Processing record 9 of set 7 | sambava\n",
      "Processing record 10 of set 7 | airai\n",
      "Processing record 11 of set 7 | trinidad\n",
      "Processing record 12 of set 7 | kloulklubed\n",
      "Processing record 13 of set 7 | raudeberg\n",
      "Processing record 14 of set 7 | de aar\n",
      "Processing record 15 of set 7 | lingyuan\n",
      "Processing record 16 of set 7 | belushya guba\n",
      "Couldn't find city\n",
      "Processing record 17 of set 7 | outjo\n",
      "Processing record 18 of set 7 | muravlenko\n",
      "Processing record 19 of set 7 | warmbad\n",
      "Processing record 20 of set 7 | te anau\n",
      "Processing record 21 of set 7 | souillac\n"
     ]
    },
    {
     "name": "stdout",
     "output_type": "stream",
     "text": [
      "Processing record 22 of set 7 | quatre cocos\n",
      "Processing record 23 of set 7 | maniitsoq\n",
      "Processing record 24 of set 7 | lorengau\n",
      "Processing record 25 of set 7 | saint anthony\n",
      "Processing record 26 of set 7 | ormond beach\n",
      "Processing record 27 of set 7 | tulun\n",
      "Processing record 28 of set 7 | kununurra\n",
      "Processing record 29 of set 7 | lavrentiya\n",
      "Processing record 30 of set 7 | la ciotat\n",
      "Processing record 31 of set 7 | bandarbeyla\n",
      "Processing record 32 of set 7 | aloleng\n",
      "Processing record 33 of set 7 | brownwood\n",
      "Processing record 34 of set 7 | asau\n",
      "Processing record 35 of set 7 | luau\n",
      "Processing record 36 of set 7 | grand centre\n",
      "Couldn't find city\n",
      "Processing record 37 of set 7 | esperance\n",
      "Processing record 38 of set 7 | thai nguyen\n",
      "Processing record 39 of set 7 | fengkou\n",
      "Processing record 40 of set 7 | otradnoye\n",
      "Processing record 41 of set 7 | warri\n",
      "Processing record 42 of set 7 | makat\n",
      "Processing record 43 of set 7 | canaries\n",
      "Processing record 44 of set 7 | bela\n",
      "Processing record 45 of set 7 | denpasar\n",
      "Processing record 46 of set 7 | kijang\n",
      "Processing record 47 of set 7 | hefei\n",
      "Processing record 48 of set 7 | fairbanks\n",
      "Processing record 49 of set 7 | pisco\n",
      "Processing record 50 of set 7 | angelholm\n",
      "Couldn't find city\n",
      "Processing record 0 of set 8 | santana do acarau\n",
      "Processing record 1 of set 8 | baiyin\n",
      "Processing record 2 of set 8 | nanortalik\n",
      "Processing record 3 of set 8 | nizhniy odes\n",
      "Processing record 4 of set 8 | jumla\n",
      "Processing record 5 of set 8 | salalah\n",
      "Processing record 6 of set 8 | moussoro\n",
      "Processing record 7 of set 8 | praya\n",
      "Processing record 8 of set 8 | sebinkarahisar\n",
      "Processing record 9 of set 8 | vestmannaeyjar\n",
      "Processing record 10 of set 8 | bathsheba\n",
      "Processing record 11 of set 8 | yeppoon\n",
      "Processing record 12 of set 8 | eureka\n",
      "Processing record 13 of set 8 | sortavala\n",
      "Processing record 14 of set 8 | mykolayivka\n",
      "Processing record 15 of set 8 | barber\n",
      "Processing record 16 of set 8 | bethel\n",
      "Processing record 17 of set 8 | tokur\n",
      "Processing record 18 of set 8 | touros\n",
      "Processing record 19 of set 8 | bugiri\n",
      "Processing record 20 of set 8 | cividale del friuli\n",
      "Processing record 21 of set 8 | meulaboh\n",
      "Processing record 22 of set 8 | kasane\n",
      "Processing record 23 of set 8 | cabedelo\n",
      "Processing record 24 of set 8 | gao\n",
      "Processing record 25 of set 8 | sosnovo-ozerskoye\n",
      "Processing record 26 of set 8 | luganville\n",
      "Processing record 27 of set 8 | dalvik\n",
      "Processing record 28 of set 8 | jieshi\n",
      "Processing record 29 of set 8 | aden\n",
      "Processing record 30 of set 8 | chulman\n",
      "Processing record 31 of set 8 | tsogni\n",
      "Processing record 32 of set 8 | noumea\n",
      "Processing record 33 of set 8 | pingxiang\n",
      "Processing record 34 of set 8 | kenai\n",
      "Processing record 35 of set 8 | morehead\n",
      "Processing record 36 of set 8 | kota belud\n",
      "Processing record 37 of set 8 | guiratinga\n",
      "Processing record 38 of set 8 | tabialan\n",
      "Couldn't find city\n",
      "Processing record 39 of set 8 | port blair\n",
      "Processing record 40 of set 8 | iwanai\n",
      "Processing record 41 of set 8 | naze\n",
      "Processing record 42 of set 8 | san patricio\n",
      "Processing record 43 of set 8 | youhao\n",
      "Processing record 44 of set 8 | nhulunbuy\n",
      "Processing record 45 of set 8 | sarangani\n",
      "Processing record 46 of set 8 | daxian\n",
      "Couldn't find city\n",
      "Processing record 47 of set 8 | havre-saint-pierre\n",
      "Processing record 48 of set 8 | banda aceh\n",
      "Processing record 49 of set 8 | isangel\n",
      "Processing record 50 of set 8 | tabukiniberu\n",
      "Couldn't find city\n",
      "Processing record 0 of set 9 | praia da vitoria\n",
      "Processing record 1 of set 9 | payo\n",
      "Processing record 2 of set 9 | kamaishi\n",
      "Processing record 3 of set 9 | tikrit\n",
      "Processing record 4 of set 9 | mugur-aksy\n",
      "Processing record 5 of set 9 | vanavara\n",
      "Processing record 6 of set 9 | nioki\n",
      "Processing record 7 of set 9 | youghal\n",
      "Processing record 8 of set 9 | joao pinheiro\n",
      "Processing record 9 of set 9 | brae\n",
      "Processing record 10 of set 9 | barcelona\n",
      "Processing record 11 of set 9 | namatanai\n",
      "Processing record 12 of set 9 | northam\n",
      "Processing record 13 of set 9 | makung\n",
      "Couldn't find city\n",
      "Processing record 14 of set 9 | oum hadjer\n",
      "Processing record 15 of set 9 | harper\n",
      "Processing record 16 of set 9 | yuzhno-yeniseyskiy\n",
      "Couldn't find city\n",
      "Processing record 17 of set 9 | husavik\n",
      "Processing record 18 of set 9 | moindou\n",
      "Processing record 19 of set 9 | roberval\n",
      "Processing record 20 of set 9 | abu samrah\n",
      "Processing record 21 of set 9 | codrington\n",
      "Processing record 22 of set 9 | fortuna\n",
      "Processing record 23 of set 9 | zaria\n",
      "Processing record 24 of set 9 | luena\n",
      "Processing record 25 of set 9 | norrtalje\n",
      "Processing record 26 of set 9 | sala consilina\n",
      "Processing record 27 of set 9 | pattukkottai\n",
      "Processing record 28 of set 9 | chincha alta\n",
      "Processing record 29 of set 9 | vavoua\n",
      "Processing record 30 of set 9 | valsad\n",
      "Processing record 31 of set 9 | rundu\n",
      "Processing record 32 of set 9 | pangnirtung\n",
      "Processing record 33 of set 9 | vrangel\n",
      "Processing record 34 of set 9 | nosy varika\n",
      "Processing record 35 of set 9 | abha\n",
      "Processing record 36 of set 9 | lecce\n",
      "Processing record 37 of set 9 | sayyan\n",
      "Processing record 38 of set 9 | kerki\n",
      "Couldn't find city\n",
      "Processing record 39 of set 9 | missoula\n",
      "Processing record 40 of set 9 | carmarthen\n",
      "Processing record 41 of set 9 | salym\n",
      "Processing record 42 of set 9 | hambantota\n",
      "Processing record 43 of set 9 | trairi\n",
      "Processing record 44 of set 9 | saryshagan\n",
      "Couldn't find city\n",
      "Processing record 45 of set 9 | sao raimundo nonato\n",
      "Processing record 46 of set 9 | togur\n",
      "Processing record 47 of set 9 | san ramon de la nueva oran\n",
      "Processing record 48 of set 9 | vaitupu\n",
      "Couldn't find city\n",
      "Processing record 49 of set 9 | whitianga\n",
      "Processing record 50 of set 9 | baia-sprie\n",
      "Couldn't find city\n",
      "Processing record 0 of set 10 | palora\n",
      "Processing record 1 of set 10 | canitas\n",
      "Couldn't find city\n",
      "Processing record 2 of set 10 | northfield\n",
      "Processing record 3 of set 10 | mecca\n",
      "Processing record 4 of set 10 | mountain home\n",
      "Processing record 5 of set 10 | queimadas\n",
      "Processing record 6 of set 10 | west bay\n",
      "Processing record 7 of set 10 | itaituba\n",
      "Processing record 8 of set 10 | saint-leu\n",
      "Processing record 9 of set 10 | senanga\n",
      "Processing record 10 of set 10 | mantua\n",
      "Processing record 11 of set 10 | chifeng\n",
      "Processing record 12 of set 10 | marystown\n",
      "Processing record 13 of set 10 | kasongo-lunda\n",
      "Processing record 14 of set 10 | great bend\n",
      "Processing record 15 of set 10 | pitimbu\n",
      "Processing record 16 of set 10 | baberu\n",
      "Processing record 17 of set 10 | el alto\n",
      "Processing record 18 of set 10 | fairlie\n",
      "Processing record 19 of set 10 | falealupo\n",
      "Couldn't find city\n",
      "Processing record 20 of set 10 | coxim\n",
      "Processing record 21 of set 10 | makakilo city\n",
      "Processing record 22 of set 10 | sinkat\n",
      "Couldn't find city\n",
      "Processing record 23 of set 10 | nzerekore\n",
      "Processing record 24 of set 10 | port hedland\n",
      "Processing record 25 of set 10 | kyotera\n",
      "Processing record 26 of set 10 | tessalit\n",
      "Processing record 27 of set 10 | tusnad\n",
      "Processing record 28 of set 10 | ushtobe\n",
      "Processing record 29 of set 10 | dudinka\n",
      "Processing record 30 of set 10 | soligalich\n",
      "Processing record 31 of set 10 | mehamn\n",
      "Processing record 32 of set 10 | utiroa\n",
      "Couldn't find city\n",
      "Processing record 33 of set 10 | suzu\n",
      "Couldn't find city\n",
      "Processing record 34 of set 10 | fort nelson\n",
      "Processing record 35 of set 10 | port-cartier\n",
      "Processing record 36 of set 10 | caucaia\n",
      "Processing record 37 of set 10 | ust-omchug\n",
      "Processing record 38 of set 10 | bunia\n",
      "Processing record 39 of set 10 | sao sebastiao\n",
      "Processing record 40 of set 10 | mathathane\n",
      "Processing record 41 of set 10 | pontianak\n",
      "Processing record 42 of set 10 | praia\n",
      "Processing record 43 of set 10 | bichena\n",
      "Processing record 44 of set 10 | ponta do sol\n",
      "Processing record 45 of set 10 | meyungs\n",
      "Couldn't find city\n",
      "Processing record 46 of set 10 | verkhoyansk\n",
      "Processing record 47 of set 10 | yerbogachen\n",
      "Processing record 48 of set 10 | mount isa\n",
      "Processing record 49 of set 10 | victoria\n",
      "Processing record 50 of set 10 | stornoway\n",
      "Processing record 0 of set 11 | bur gabo\n",
      "Couldn't find city\n",
      "Processing record 1 of set 11 | sadon\n",
      "Processing record 2 of set 11 | wanning\n",
      "Processing record 3 of set 11 | svetlogorsk\n",
      "Processing record 4 of set 11 | warrington\n",
      "Processing record 5 of set 11 | kalmunai\n",
      "Processing record 6 of set 11 | luderitz\n",
      "Processing record 7 of set 11 | boysun\n"
     ]
    },
    {
     "name": "stdout",
     "output_type": "stream",
     "text": [
      "Processing record 8 of set 11 | esna\n",
      "Processing record 9 of set 11 | ileza\n",
      "Processing record 10 of set 11 | cayenne\n",
      "Processing record 11 of set 11 | chipinge\n",
      "Processing record 12 of set 11 | khuzhir\n",
      "Processing record 13 of set 11 | lamu\n",
      "Processing record 14 of set 11 | kukmor\n",
      "Processing record 15 of set 11 | samarai\n",
      "Processing record 16 of set 11 | phek\n",
      "Processing record 17 of set 11 | okhotsk\n",
      "Processing record 18 of set 11 | khonuu\n",
      "Couldn't find city\n",
      "Processing record 19 of set 11 | niamey\n",
      "Processing record 20 of set 11 | mangrol\n",
      "Processing record 21 of set 11 | gorontalo\n",
      "Processing record 22 of set 11 | liverpool\n",
      "Processing record 23 of set 11 | batagay-alyta\n",
      "Processing record 24 of set 11 | revda\n",
      "Processing record 25 of set 11 | guerrero negro\n",
      "Processing record 26 of set 11 | lewiston\n",
      "Processing record 27 of set 11 | manokwari\n",
      "Processing record 28 of set 11 | kargasok\n",
      "Processing record 29 of set 11 | xingyi\n",
      "Processing record 30 of set 11 | borgarnes\n",
      "Processing record 31 of set 11 | aflu\n",
      "Couldn't find city\n",
      "Processing record 32 of set 11 | gien\n",
      "Processing record 33 of set 11 | oussouye\n",
      "Processing record 34 of set 11 | iberia\n",
      "Processing record 35 of set 11 | luorong\n",
      "Processing record 36 of set 11 | yefimovskiy\n",
      "Couldn't find city\n",
      "Processing record 37 of set 11 | hit\n",
      "Processing record 38 of set 11 | anavra\n",
      "Processing record 39 of set 11 | monroe\n",
      "Processing record 40 of set 11 | kihei\n",
      "Processing record 41 of set 11 | krasnyy oktyabr\n",
      "Processing record 42 of set 11 | casper\n",
      "Processing record 43 of set 11 | arman\n",
      "Processing record 44 of set 11 | severnoye\n",
      "Processing record 45 of set 11 | ketchikan\n",
      "Processing record 46 of set 11 | tumarbong\n",
      "Processing record 47 of set 11 | vao\n",
      "Processing record 48 of set 11 | aguimes\n",
      "Processing record 49 of set 11 | muisne\n",
      "Processing record 50 of set 11 | whyalla\n",
      "Processing record 0 of set 12 | aldan\n",
      "Processing record 1 of set 12 | opuwo\n",
      "Processing record 2 of set 12 | dawlatabad\n",
      "Processing record 3 of set 12 | prince george\n",
      "Processing record 4 of set 12 | chitral\n",
      "Processing record 5 of set 12 | rudbar\n",
      "Processing record 6 of set 12 | cockburn town\n",
      "Processing record 7 of set 12 | saint austell\n",
      "Processing record 8 of set 12 | qasigiannguit\n",
      "Processing record 9 of set 12 | san carlos de bariloche\n",
      "Processing record 10 of set 12 | szerencs\n",
      "Processing record 11 of set 12 | lunino\n"
     ]
    }
   ],
   "source": [
    "# set up lists to hold reponse info\n",
    "\n",
    "record_counter = 0\n",
    "set_counter = 0\n",
    "city_data = []\n",
    "cloudiness = []\n",
    "country = []\n",
    "date = []\n",
    "humidity = []\n",
    "temp = []\n",
    "lat = []\n",
    "lng = []\n",
    "wind = []\n",
    "\n",
    "# Build partial query URL\n",
    "url = \"http://api.openweathermap.org/data/2.5/weather?\"\n",
    "units = \"metric\"\n",
    "query_url = f\"{url}appid={api_key}&units={units}&q=\"\n",
    "\n",
    "print('Beginning Data Retrieval')\n",
    "print('------------------------')\n",
    "\n",
    "for city in cities:\n",
    "    response = requests.get(query_url + city).json()\n",
    "    print('Processing record {} of set {} | {}'.format(record_counter, set_counter, city))\n",
    "    \n",
    "    try:\n",
    "        cloudiness.append(response['clouds']['all'])\n",
    "        country.append(response['sys']['country'])\n",
    "        date.append(response['dt'])\n",
    "        humidity.append(response['main']['humidity'])\n",
    "        temp.append(response['main']['temp_max'])\n",
    "        lat.append(response['coord']['lat'])\n",
    "        lng.append(response['coord']['lon'])\n",
    "        wind.append(response['wind']['speed'])\n",
    "        city_data.append(city)\n",
    "    except:\n",
    "        print(\"Couldn't find city\")\n",
    "        pass\n",
    "        \n",
    "        \n",
    "    if record_counter < 50:\n",
    "        record_counter += 1\n",
    "    else:\n",
    "        set_counter += 1\n",
    "        record_counter = 0"
   ]
  },
  {
   "cell_type": "code",
   "execution_count": null,
   "metadata": {
    "scrolled": true
   },
   "outputs": [],
   "source": []
  },
  {
   "cell_type": "markdown",
   "metadata": {},
   "source": [
    "### Convert Raw Data to DataFrame\n",
    "* Export the city data into a .csv.\n",
    "* Display the DataFrame"
   ]
  },
  {
   "cell_type": "code",
   "execution_count": 64,
   "metadata": {},
   "outputs": [
    {
     "data": {
      "text/html": [
       "<div>\n",
       "<style scoped>\n",
       "    .dataframe tbody tr th:only-of-type {\n",
       "        vertical-align: middle;\n",
       "    }\n",
       "\n",
       "    .dataframe tbody tr th {\n",
       "        vertical-align: top;\n",
       "    }\n",
       "\n",
       "    .dataframe thead th {\n",
       "        text-align: right;\n",
       "    }\n",
       "</style>\n",
       "<table border=\"1\" class=\"dataframe\">\n",
       "  <thead>\n",
       "    <tr style=\"text-align: right;\">\n",
       "      <th></th>\n",
       "      <th>City</th>\n",
       "      <th>Cloudiness</th>\n",
       "      <th>Country</th>\n",
       "      <th>Date</th>\n",
       "      <th>Humidity</th>\n",
       "      <th>Temp</th>\n",
       "      <th>Lat</th>\n",
       "      <th>Lng</th>\n",
       "      <th>Wind_Speed</th>\n",
       "    </tr>\n",
       "  </thead>\n",
       "  <tbody>\n",
       "    <tr>\n",
       "      <th>0</th>\n",
       "      <td>namibe</td>\n",
       "      <td>0</td>\n",
       "      <td>AO</td>\n",
       "      <td>1621115518</td>\n",
       "      <td>57</td>\n",
       "      <td>23.77</td>\n",
       "      <td>-15.1961</td>\n",
       "      <td>12.1522</td>\n",
       "      <td>1.08</td>\n",
       "    </tr>\n",
       "    <tr>\n",
       "      <th>1</th>\n",
       "      <td>chuy</td>\n",
       "      <td>100</td>\n",
       "      <td>UY</td>\n",
       "      <td>1621115518</td>\n",
       "      <td>72</td>\n",
       "      <td>12.41</td>\n",
       "      <td>-33.6971</td>\n",
       "      <td>-53.4616</td>\n",
       "      <td>1.60</td>\n",
       "    </tr>\n",
       "    <tr>\n",
       "      <th>2</th>\n",
       "      <td>avarua</td>\n",
       "      <td>40</td>\n",
       "      <td>CK</td>\n",
       "      <td>1621115310</td>\n",
       "      <td>74</td>\n",
       "      <td>27.00</td>\n",
       "      <td>-21.2078</td>\n",
       "      <td>-159.7750</td>\n",
       "      <td>5.66</td>\n",
       "    </tr>\n",
       "    <tr>\n",
       "      <th>3</th>\n",
       "      <td>darhan</td>\n",
       "      <td>10</td>\n",
       "      <td>MN</td>\n",
       "      <td>1621115519</td>\n",
       "      <td>49</td>\n",
       "      <td>8.63</td>\n",
       "      <td>49.4867</td>\n",
       "      <td>105.9228</td>\n",
       "      <td>1.64</td>\n",
       "    </tr>\n",
       "    <tr>\n",
       "      <th>4</th>\n",
       "      <td>albany</td>\n",
       "      <td>1</td>\n",
       "      <td>US</td>\n",
       "      <td>1621115474</td>\n",
       "      <td>23</td>\n",
       "      <td>23.00</td>\n",
       "      <td>42.6001</td>\n",
       "      <td>-73.9662</td>\n",
       "      <td>4.12</td>\n",
       "    </tr>\n",
       "  </tbody>\n",
       "</table>\n",
       "</div>"
      ],
      "text/plain": [
       "     City  Cloudiness Country        Date  Humidity   Temp      Lat       Lng  \\\n",
       "0  namibe           0      AO  1621115518        57  23.77 -15.1961   12.1522   \n",
       "1    chuy         100      UY  1621115518        72  12.41 -33.6971  -53.4616   \n",
       "2  avarua          40      CK  1621115310        74  27.00 -21.2078 -159.7750   \n",
       "3  darhan          10      MN  1621115519        49   8.63  49.4867  105.9228   \n",
       "4  albany           1      US  1621115474        23  23.00  42.6001  -73.9662   \n",
       "\n",
       "   Wind_Speed  \n",
       "0        1.08  \n",
       "1        1.60  \n",
       "2        5.66  \n",
       "3        1.64  \n",
       "4        4.12  "
      ]
     },
     "execution_count": 64,
     "metadata": {},
     "output_type": "execute_result"
    }
   ],
   "source": [
    "data_dict = {\n",
    "    \"City\": city_data,\n",
    "    \"Cloudiness\" : cloudiness,\n",
    "    \"Country\" : country,\n",
    "    \"Date\" : date,\n",
    "    \"Humidity\" : humidity,\n",
    "    \"Temp\": temp,\n",
    "    \"Lat\" : lat,\n",
    "    \"Lng\" : lng,   \n",
    "    \"Wind_Speed\" : wind\n",
    "}\n",
    "weather_data = pd.DataFrame(data_dict)\n",
    "weather_data.count()\n",
    "weather_data.head()"
   ]
  },
  {
   "cell_type": "code",
   "execution_count": 65,
   "metadata": {},
   "outputs": [],
   "source": [
    "weather_data.to_csv(output_data_file)"
   ]
  },
  {
   "cell_type": "markdown",
   "metadata": {},
   "source": [
    "## Inspect the data and remove the cities where the humidity > 100%.\n",
    "----\n",
    "Skip this step if there are no cities that have humidity > 100%. "
   ]
  },
  {
   "cell_type": "code",
   "execution_count": 66,
   "metadata": {},
   "outputs": [
    {
     "data": {
      "text/plain": [
       "count    563.000000\n",
       "mean      69.849023\n",
       "std       23.458382\n",
       "min        1.000000\n",
       "25%       57.000000\n",
       "50%       76.000000\n",
       "75%       89.000000\n",
       "max      100.000000\n",
       "Name: Humidity, dtype: float64"
      ]
     },
     "execution_count": 66,
     "metadata": {},
     "output_type": "execute_result"
    }
   ],
   "source": [
    "weather_data[\"Humidity\"].describe(include = \"all\")"
   ]
  },
  {
   "cell_type": "code",
   "execution_count": 67,
   "metadata": {},
   "outputs": [],
   "source": [
    "#  Get the indices of cities that have humidity over 100%.\n"
   ]
  },
  {
   "cell_type": "code",
   "execution_count": 68,
   "metadata": {},
   "outputs": [],
   "source": [
    "# Make a new DataFrame equal to the city data to drop all humidity outliers by index.\n",
    "# Passing \"inplace=False\" will make a copy of the city_data DataFrame, which we call \"clean_city_data\".\n"
   ]
  },
  {
   "cell_type": "code",
   "execution_count": null,
   "metadata": {},
   "outputs": [],
   "source": [
    "\n"
   ]
  },
  {
   "cell_type": "markdown",
   "metadata": {},
   "source": [
    "## Plotting the Data\n",
    "* Use proper labeling of the plots using plot titles (including date of analysis) and axes labels.\n",
    "* Save the plotted figures as .pngs."
   ]
  },
  {
   "cell_type": "markdown",
   "metadata": {},
   "source": [
    "## Latitude vs. Temperature Plot"
   ]
  },
  {
   "cell_type": "code",
   "execution_count": 127,
   "metadata": {
    "scrolled": false
   },
   "outputs": [
    {
     "data": {
      "image/png": "[encoded data removed]",
      "text/plain": [
       "<Figure size 432x288 with 1 Axes>"
      ]
     },
     "metadata": {
      "needs_background": "light"
     },
     "output_type": "display_data"
    }
   ],
   "source": [
    "plt.scatter(weather_data.Lat,weather_data.Temp)\n",
    "plt.xlabel(\"Latitude\")\n",
    "plt.ylabel(\"Temperature\")\n",
    "\n",
    "# Save the figure\n",
    "plt.savefig(\"Images/LatvsTemp.png\", dpi=100)\n",
    "plt.show()\n",
    "\n"
   ]
  },
  {
   "cell_type": "markdown",
   "metadata": {},
   "source": [
    "## Latitude vs. Humidity Plot"
   ]
  },
  {
   "cell_type": "code",
   "execution_count": 128,
   "metadata": {},
   "outputs": [
    {
     "data": {
      "image/png": "[encoded data removed]",
      "text/plain": [
       "<Figure size 432x288 with 1 Axes>"
      ]
     },
     "metadata": {
      "needs_background": "light"
     },
     "output_type": "display_data"
    }
   ],
   "source": [
    "plt.scatter(weather_data.Lat,weather_data.Humidity)\n",
    "plt.xlabel(\"Latitude\")\n",
    "plt.ylabel(\"Humidity\")\n",
    "plt.savefig(\"Images/LatvsHumidity.png\", dpi=100)\n",
    "plt.show()"
   ]
  },
  {
   "cell_type": "markdown",
   "metadata": {},
   "source": [
    "## Latitude vs. Cloudiness Plot"
   ]
  },
  {
   "cell_type": "code",
   "execution_count": 129,
   "metadata": {},
   "outputs": [
    {
     "data": {
      "image/png": "[encoded data removed]",
      "text/plain": [
       "<Figure size 432x288 with 1 Axes>"
      ]
     },
     "metadata": {
      "needs_background": "light"
     },
     "output_type": "display_data"
    }
   ],
   "source": [
    "plt.scatter(weather_data.Lat,weather_data.Cloudiness)\n",
    "plt.xlabel(\"Latitude\")\n",
    "plt.ylabel(\"Cloudiness\")\n",
    "plt.savefig(\"Images/LatvsCloudiness.png\", dpi=100)\n",
    "plt.show()"
   ]
  },
  {
   "cell_type": "markdown",
   "metadata": {},
   "source": [
    "## Latitude vs. Wind Speed Plot"
   ]
  },
  {
   "cell_type": "code",
   "execution_count": 130,
   "metadata": {},
   "outputs": [
    {
     "data": {
      "image/png": "[encoded data removed]",
      "text/plain": [
       "<Figure size 432x288 with 1 Axes>"
      ]
     },
     "metadata": {
      "needs_background": "light"
     },
     "output_type": "display_data"
    }
   ],
   "source": [
    "plt.scatter(weather_data.Lat,weather_data.Wind_Speed)\n",
    "plt.xlabel(\"Latitude\")\n",
    "plt.ylabel(\"Wind Speed\")\n",
    "plt.savefig(\"Images/LatvsWind_Speed.png\", dpi=100)\n",
    "plt.show()"
   ]
  },
  {
   "cell_type": "code",
   "execution_count": null,
   "metadata": {},
   "outputs": [],
   "source": []
  },
  {
   "cell_type": "markdown",
   "metadata": {},
   "source": [
    "## Linear Regression"
   ]
  },
  {
   "cell_type": "code",
   "execution_count": 79,
   "metadata": {},
   "outputs": [],
   "source": [
    "# Create Hemisphere DataFrames\n",
    "northern_hemisphere = weather_data.loc[weather_data[\"Lat\"] >= 0]\n",
    "southern_hemisphere = weather_data.loc[weather_data[\"Lat\"] < 0]\n",
    "\n",
    "\n",
    "# Define function for linear regression and scatter plot\n",
    "def linear_regression(x,y):\n",
    "    print(f\"The r-squared is : {round(st.pearsonr(x, y)[0],2)}\")\n",
    "    (slope, intercept, rvalue, pvalue, stderr) = linregress(x, y)\n",
    "    regress_values = x * slope + intercept\n",
    "    line_eq = \"y = \" + str(round(slope,2)) + \"x + \" + str(round(intercept,2))\n",
    "    plt.scatter(x, y)\n",
    "    plt.plot(x,regress_values,\"r-\")\n",
    "    return line_eq\n",
    "\n",
    "# Define a fuction for annotating\n",
    "def annotate(line_eq, a, b):\n",
    "    plt.annotate(line_eq,(a,b),fontsize=15,color=\"red\")"
   ]
  },
  {
   "cell_type": "markdown",
   "metadata": {},
   "source": [
    "####  Northern Hemisphere - Max Temp vs. Latitude Linear Regression"
   ]
  },
  {
   "cell_type": "code",
   "execution_count": 131,
   "metadata": {},
   "outputs": [
    {
     "name": "stdout",
     "output_type": "stream",
     "text": [
      "The r-squared is : -0.82\n"
     ]
    },
    {
     "data": {
      "image/png": "[encoded data removed]",
      "text/plain": [
       "<Figure size 432x288 with 1 Axes>"
      ]
     },
     "metadata": {
      "needs_background": "light"
     },
     "output_type": "display_data"
    }
   ],
   "source": [
    "#The R-squared value of .82 indicates a strong correlation, not very strong, between latitude and temperature for tempereatures in the northern hemisphere.\n",
    "\n",
    "# Call an function #1\n",
    "equation = linear_regression(northern_hemisphere[\"Lat\"], northern_hemisphere[\"Temp\"])\n",
    "\n",
    "# Call an function #2\n",
    "annotate(equation, 0, 0)\n",
    "\n",
    "# Set a title\n",
    "plt.title(\"Northern Hemisphere - Temp vs. Latitude Linear Regression\")\n",
    "\n",
    "# Set xlabel\n",
    "plt.xlabel(\"Latitude\")\n",
    "\n",
    "# Set ylabel\n",
    "plt.ylabel(\"Temp\")\n",
    "\n",
    "plt.savefig(\"Images/NorthernHem Temp vs Lat.png\", dpi=100)\n",
    "plt.show()"
   ]
  },
  {
   "cell_type": "markdown",
   "metadata": {},
   "source": [
    " Southern Hemisphere - Max Temp vs. Latitude Linear Regression"
   ]
  },
  {
   "cell_type": "code",
   "execution_count": 132,
   "metadata": {},
   "outputs": [
    {
     "name": "stdout",
     "output_type": "stream",
     "text": [
      "The r-squared is : 0.79\n"
     ]
    },
    {
     "data": {
      "image/png": "[encoded data removed]",
      "text/plain": [
       "<Figure size 432x288 with 1 Axes>"
      ]
     },
     "metadata": {
      "needs_background": "light"
     },
     "output_type": "display_data"
    }
   ],
   "source": [
    "#The R-squared value of .79 indicates a strong correlation, not very strong, between latitude and temperature for tempereatures in the southern hemisphere.\n",
    "\n",
    "# Call an function #1\n",
    "equation = linear_regression(southern_hemisphere[\"Lat\"], southern_hemisphere[\"Temp\"])\n",
    "\n",
    "# Call an function #2\n",
    "annotate(equation, -50, 25)\n",
    "\n",
    "# Set a title\n",
    "plt.title(\"Southern Hemisphere - Temp vs. Latitude Linear Regression\")\n",
    "\n",
    "# Set xlabel\n",
    "plt.xlabel(\"Latitude\")\n",
    "\n",
    "# Set ylabel\n",
    "plt.ylabel(\"Temp\")\n",
    "\n",
    "plt.savefig(\"Images/SouthernHem Temp vs Lat.png\", dpi=100)\n",
    "plt.show()"
   ]
  },
  {
   "cell_type": "markdown",
   "metadata": {},
   "source": [
    "####  Northern Hemisphere - Humidity (%) vs. Latitude Linear Regression"
   ]
  },
  {
   "cell_type": "code",
   "execution_count": 133,
   "metadata": {},
   "outputs": [
    {
     "name": "stdout",
     "output_type": "stream",
     "text": [
      "The r-squared is : 0.13\n"
     ]
    },
    {
     "data": {
      "image/png": "[encoded data removed]",
      "text/plain": [
       "<Figure size 432x288 with 1 Axes>"
      ]
     },
     "metadata": {
      "needs_background": "light"
     },
     "output_type": "display_data"
    }
   ],
   "source": [
    "#The R-squared value of .13 indicates a very weak correlation between latitude and temperature for tempereatures in the northern hemisphere.\n",
    "\n",
    "# Call an function #1\n",
    "equation = linear_regression(northern_hemisphere[\"Lat\"], northern_hemisphere[\"Humidity\"])\n",
    "\n",
    "# Call an function #2\n",
    "annotate(equation, 45, 10)\n",
    "\n",
    "# Set a title\n",
    "plt.title(\"Northern Hemisphere - Humidity vs. Latitude Linear Regression\")\n",
    "\n",
    "# Set xlabel\n",
    "plt.xlabel(\"Latitude\")\n",
    "\n",
    "# Set ylabel\n",
    "plt.ylabel(\"Humidity\")\n",
    "\n",
    "plt.savefig(\"Images/NorthernHem Humidity vs Lat.png\", dpi=100)\n",
    "plt.show()"
   ]
  },
  {
   "cell_type": "markdown",
   "metadata": {},
   "source": [
    "####  Southern Hemisphere - Humidity (%) vs. Latitude Linear Regression"
   ]
  },
  {
   "cell_type": "code",
   "execution_count": 134,
   "metadata": {},
   "outputs": [
    {
     "name": "stdout",
     "output_type": "stream",
     "text": [
      "The r-squared is : 0.05\n"
     ]
    },
    {
     "data": {
      "image/png": "[encoded data removed]",
      "text/plain": [
       "<Figure size 432x288 with 1 Axes>"
      ]
     },
     "metadata": {
      "needs_background": "light"
     },
     "output_type": "display_data"
    }
   ],
   "source": [
    "# Call an function #1\n",
    "equation = linear_regression(southern_hemisphere[\"Lat\"], southern_hemisphere[\"Humidity\"])\n",
    "\n",
    "# Call an function #2\n",
    "annotate(equation, -50, 25)\n",
    "\n",
    "# Set a title\n",
    "plt.title(\"Southern Hemisphere - Humidity vs. Latitude Linear Regression\")\n",
    "\n",
    "# Set xlabel\n",
    "plt.xlabel(\"Latitude\")\n",
    "\n",
    "# Set ylabel\n",
    "plt.ylabel(\"Humidity\")\n",
    "\n",
    "plt.savefig(\"Images/SouthernHem Humidity vs Lat.png\", dpi=100)\n",
    "plt.show()"
   ]
  },
  {
   "cell_type": "markdown",
   "metadata": {},
   "source": [
    "####  Northern Hemisphere - Cloudiness (%) vs. Latitude Linear Regression"
   ]
  },
  {
   "cell_type": "code",
   "execution_count": 135,
   "metadata": {},
   "outputs": [
    {
     "name": "stdout",
     "output_type": "stream",
     "text": [
      "The r-squared is : 0.1\n"
     ]
    },
    {
     "data": {
      "image/png": "[encoded data removed]",
      "text/plain": [
       "<Figure size 432x288 with 1 Axes>"
      ]
     },
     "metadata": {
      "needs_background": "light"
     },
     "output_type": "display_data"
    }
   ],
   "source": [
    "# Call an function #1\n",
    "equation = linear_regression(northern_hemisphere[\"Lat\"], northern_hemisphere[\"Cloudiness\"])\n",
    "\n",
    "# Call an function #2\n",
    "annotate(equation, -50, 25)\n",
    "\n",
    "# Set a title\n",
    "plt.title(\"Northern Hemisphere - Cloudiness vs. Latitude Linear Regression\")\n",
    "\n",
    "# Set xlabel\n",
    "plt.xlabel(\"Latitude\")\n",
    "\n",
    "# Set ylabel\n",
    "plt.ylabel(\"Cloudiness\")\n",
    "\n",
    "plt.savefig(\"Images/NorthernHem Cloudiness vs Lat.png\", dpi=100)\n",
    "plt.show()"
   ]
  },
  {
   "cell_type": "markdown",
   "metadata": {},
   "source": [
    "####  Southern Hemisphere - Cloudiness (%) vs. Latitude Linear Regression"
   ]
  },
  {
   "cell_type": "code",
   "execution_count": 136,
   "metadata": {},
   "outputs": [
    {
     "name": "stdout",
     "output_type": "stream",
     "text": [
      "The r-squared is : -0.08\n"
     ]
    },
    {
     "data": {
      "image/png": "[encoded data removed]",
      "text/plain": [
       "<Figure size 432x288 with 1 Axes>"
      ]
     },
     "metadata": {
      "needs_background": "light"
     },
     "output_type": "display_data"
    }
   ],
   "source": [
    "# Call an function #1\n",
    "equation = linear_regression(southern_hemisphere[\"Lat\"], southern_hemisphere[\"Cloudiness\"])\n",
    "\n",
    "# Call an function #2\n",
    "annotate(equation, -50, 25)\n",
    "\n",
    "# Set a title\n",
    "plt.title(\"Southern Hemisphere - Cloudiness vs. Latitude Linear Regression\")\n",
    "\n",
    "# Set xlabel\n",
    "plt.xlabel(\"Latitude\")\n",
    "\n",
    "# Set ylabel\n",
    "plt.ylabel(\"Cloudiness\")\n",
    "\n",
    "plt.savefig(\"Images/SouthernHem Cloudiness vs Lat.png\", dpi=100)\n",
    "plt.show()"
   ]
  },
  {
   "cell_type": "markdown",
   "metadata": {},
   "source": [
    "####  Northern Hemisphere - Wind Speed (mph) vs. Latitude Linear Regression"
   ]
  },
  {
   "cell_type": "code",
   "execution_count": 137,
   "metadata": {},
   "outputs": [
    {
     "name": "stdout",
     "output_type": "stream",
     "text": [
      "The r-squared is : -0.06\n"
     ]
    },
    {
     "data": {
      "image/png": "[encoded data removed]",
      "text/plain": [
       "<Figure size 432x288 with 1 Axes>"
      ]
     },
     "metadata": {
      "needs_background": "light"
     },
     "output_type": "display_data"
    }
   ],
   "source": [
    "# Call an function #1\n",
    "equation = linear_regression(northern_hemisphere[\"Lat\"], northern_hemisphere[\"Wind_Speed\"])\n",
    "\n",
    "# Call an function #2\n",
    "annotate(equation, 40, 12)\n",
    "\n",
    "# Set a title\n",
    "plt.title(\"Northern Hemisphere - Wind Speed vs. Latitude Linear Regression\")\n",
    "\n",
    "# Set xlabel\n",
    "plt.xlabel(\"Latitude\")\n",
    "\n",
    "# Set ylabel\n",
    "plt.ylabel(\"Wind Speed\")\n",
    "\n",
    "plt.savefig(\"Images/NorthernHem Wind Speed vs Lat.png\", dpi=100)\n",
    "plt.show()"
   ]
  },
  {
   "cell_type": "markdown",
   "metadata": {},
   "source": [
    "####  Southern Hemisphere - Wind Speed (mph) vs. Latitude Linear Regression"
   ]
  },
  {
   "cell_type": "code",
   "execution_count": 138,
   "metadata": {},
   "outputs": [
    {
     "name": "stdout",
     "output_type": "stream",
     "text": [
      "The r-squared is : 0.04\n"
     ]
    },
    {
     "data": {
      "image/png": "[encoded data removed]",
      "text/plain": [
       "<Figure size 432x288 with 1 Axes>"
      ]
     },
     "metadata": {
      "needs_background": "light"
     },
     "output_type": "display_data"
    }
   ],
   "source": [
    "\n",
    "# Call an function #1\n",
    "equation = linear_regression(southern_hemisphere[\"Lat\"], southern_hemisphere[\"Wind_Speed\"])\n",
    "\n",
    "# Call an function #2\n",
    "annotate(equation, -50, 10)\n",
    "\n",
    "# Set a title\n",
    "plt.title(\"Southern Hemisphere - Wind Speed vs. Latitude Linear Regression\")\n",
    "\n",
    "# Set xlabel\n",
    "plt.xlabel(\"Latitude\")\n",
    "\n",
    "# Set ylabel\n",
    "plt.ylabel(\"Wind Speed\")\n",
    "\n",
    "plt.savefig(\"Images/SouthernHem Wind Speed vs Lat.png\", dpi=100)\n",
    "plt.show()"
   ]
  },
  {
   "cell_type": "code",
   "execution_count": null,
   "metadata": {},
   "outputs": [],
   "source": []
  }
 ],
 "metadata": {
  "anaconda-cloud": {},
  "kernel_info": {
   "name": "python3"
  },
  "kernelspec": {
   "display_name": "Python 3",
   "language": "python",
   "name": "python3"
  },
  "language_info": {
   "codemirror_mode": {
    "name": "ipython",
    "version": 3
   },
   "file_extension": ".py",
   "mimetype": "text/x-python",
   "name": "python",
   "nbconvert_exporter": "python",
   "pygments_lexer": "ipython3",
   "version": "3.8.8"
  },
  "latex_envs": {
   "LaTeX_envs_menu_present": true,
   "autoclose": false,
   "autocomplete": true,
   "bibliofile": "biblio.bib",
   "cite_by": "apalike",
   "current_citInitial": 1,
   "eqLabelWithNumbers": true,
   "eqNumInitial": 1,
   "hotkeys": {
    "equation": "Ctrl-E",
    "itemize": "Ctrl-I"
   },
   "labels_anchors": false,
   "latex_user_defs": false,
   "report_style_numbering": false,
   "user_envs_cfg": false
  },
  "nteract": {
   "version": "0.12.3"
  }
 },
 "nbformat": 4,
 "nbformat_minor": 2
}
